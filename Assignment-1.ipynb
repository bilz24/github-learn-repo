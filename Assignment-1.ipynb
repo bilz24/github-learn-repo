{
 "cells": [
  {
   "cell_type": "markdown",
   "id": "08fadc68-03c6-41a8-9521-a95b2296372e",
   "metadata": {},
   "source": [
    "# Part -1 Python Basics (Variables)"
   ]
  },
  {
   "cell_type": "markdown",
   "id": "931d6030-3507-4e51-9a1a-749dba88dd87",
   "metadata": {},
   "source": [
    "1. Print Your Name with your Father name and Date of birth using suitable escape sequence charactor"
   ]
  },
  {
   "cell_type": "code",
   "execution_count": 2,
   "id": "bf87c81f-d4db-43a0-aa95-7a03536bee34",
   "metadata": {},
   "outputs": [
    {
     "name": "stdout",
     "output_type": "stream",
     "text": [
      "My Name is Bilal Ahmed\n",
      "My Father Name is Abrar Ahmed\n",
      "My Date of Birth is 24-11-2005\n"
     ]
    }
   ],
   "source": [
    "name=\"Bilal Ahmed\"\n",
    "fatherName=\"Abrar Ahmed\"\n",
    "dateOfBirth=\"24-11-2005\"\n",
    "print(f\"My Name is {name}\\nMy Father Name is {fatherName}\\nMy Date of Birth is {dateOfBirth}\")"
   ]
  },
  {
   "cell_type": "markdown",
   "id": "8e97ffd4-d9f7-4cfb-ad98-59cb3fa51e30",
   "metadata": {},
   "source": [
    "2. Write your small bio using variables and print it using print function"
   ]
  },
  {
   "cell_type": "code",
   "execution_count": 5,
   "id": "06af9deb-9f9d-4e2d-9b88-5a1be8564fea",
   "metadata": {},
   "outputs": [
    {
     "name": "stdout",
     "output_type": "stream",
     "text": [
      "Name: Bilal Ahmed\n",
      "Academic Experience: BSE First Year Student\n",
      "Hobby: Playiing cricket\n",
      "Experience: Experience in HTML,CSS and Flutter also\n"
     ]
    }
   ],
   "source": [
    "name=\"Bilal Ahmed\"\n",
    "educationStatus=\"BSE First Year Student\"\n",
    "hobby=\"Playiing cricket\"\n",
    "experience=\"Experience in HTML,CSS and Flutter also\"\n",
    "print(f\"Name: {name}\\nAcademic Experience: {educationStatus}\\nHobby: {hobby}\\nExperience: {experience}\")"
   ]
  },
  {
   "cell_type": "markdown",
   "id": "6f3fb8ea-9329-455e-84e1-9e4665b54367",
   "metadata": {},
   "source": [
    "3. Write a program in which use all the operators we can use in Python"
   ]
  },
  {
   "cell_type": "code",
   "execution_count": 1,
   "id": "ac257d6e-99aa-43e7-80bf-8c07699eb3fd",
   "metadata": {},
   "outputs": [
    {
     "name": "stdout",
     "output_type": "stream",
     "text": [
      "Addition: 50 + 100 = 150\n",
      "Subtraction: 50 - 100 = -50\n",
      "Multiplication: 50 * 100 = 5000\n",
      "Division: 50 / 100 = 0.5\n",
      "Floor Division: 50 // 100 = 0\n",
      "Modulus: 50 % 100 = 50\n",
      "Exponentiation: 50 ** 100 = 78886090522101180541172856528278622967320643510902300477027893066406250000000000000000000000000000000000000000000000000000000000000000000000000000000000000000000000000000\n",
      "Logical AND: True and False = False\n",
      "Logical OR: True or False = True\n",
      "Logical NOT: not True = False\n",
      "Equal: 50 == 100 = False\n",
      "Not Equal: 50 != 100 = True\n",
      "Greater Than: 50 > 100 = False\n",
      "Less Than: 50 < 100 = True\n",
      "Greater Than or Equal To: 50 >= 100 = False\n",
      "Less Than or Equal To: 50 <= 100 = True\n",
      "Assignment: c = 150\n",
      "Add and Assign: c += 50 = 200\n",
      "Subtract and Assign: c -= 100 = 100\n",
      "Multiply and Assign: c *= 50 = 5000\n",
      "Divide and Assign: c /= 100 = 50.0\n",
      "Modulus and Assign: c %= 50 = 0.0\n",
      "Floor Divide and Assign: c //= 100 = 0.0\n",
      "Identity (is): a is d = True\n",
      "Identity (is not): a is not b = True\n"
     ]
    }
   ],
   "source": [
    "# Arithmetic Operators\n",
    "a = 50\n",
    "b = 100\n",
    "print(f\"Addition: {a} + {b} = {a + b}\")\n",
    "print(f\"Subtraction: {a} - {b} = {a - b}\")\n",
    "print(f\"Multiplication: {a} * {b} = {a * b}\")\n",
    "print(f\"Division: {a} / {b} = {a / b}\")\n",
    "print(f\"Floor Division: {a} // {b} = {a // b}\")\n",
    "print(f\"Modulus: {a} % {b} = {a % b}\")\n",
    "print(f\"Exponentiation: {a} ** {b} = {a ** b}\")\n",
    "\n",
    "# Logical Operators\n",
    "x = True\n",
    "y = False\n",
    "print(f\"Logical AND: {x} and {y} = {x and y}\")\n",
    "print(f\"Logical OR: {x} or {y} = {x or y}\")\n",
    "print(f\"Logical NOT: not {x} = {not x}\")\n",
    "\n",
    "# Comparison Operators\n",
    "print(f\"Equal: {a} == {b} = {a == b}\")\n",
    "print(f\"Not Equal: {a} != {b} = {a != b}\")\n",
    "print(f\"Greater Than: {a} > {b} = {a > b}\")\n",
    "print(f\"Less Than: {a} < {b} = {a < b}\")\n",
    "print(f\"Greater Than or Equal To: {a} >= {b} = {a >= b}\")\n",
    "print(f\"Less Than or Equal To: {a} <= {b} = {a <= b}\")\n",
    "\n",
    "# Assignment Operators\n",
    "c = a + b\n",
    "print(f\"Assignment: c = {c}\")\n",
    "c += a\n",
    "print(f\"Add and Assign: c += {a} = {c}\")\n",
    "c -= b\n",
    "print(f\"Subtract and Assign: c -= {b} = {c}\")\n",
    "c *= a\n",
    "print(f\"Multiply and Assign: c *= {a} = {c}\")\n",
    "c /= b\n",
    "print(f\"Divide and Assign: c /= {b} = {c}\")\n",
    "c %= a\n",
    "print(f\"Modulus and Assign: c %= {a} = {c}\")\n",
    "c //= b\n",
    "print(f\"Floor Divide and Assign: c //= {b} = {c}\")\n",
    "\n",
    "# Identity Operators\n",
    "d = a\n",
    "print(f\"Identity (is): a is d = {a is d}\")\n",
    "print(f\"Identity (is not): a is not b = {a is not b}\")\n",
    "\n"
   ]
  },
  {
   "cell_type": "markdown",
   "id": "b7dc6274-ccfe-4752-9c8b-4a471e102f1d",
   "metadata": {},
   "source": [
    "4. Completes the following steps of small task:\n",
    "    -  Mention Marks of English , Islamiat and Maths out of 100 in 3 different variables\n",
    "    - Mention Variable of Total Marks and assign 300 to it\r\n",
    "    - Calculate Percetage\""
   ]
  },
  {
   "cell_type": "code",
   "execution_count": 7,
   "id": "ee37182b-aa9e-4599-b796-0e42a8efe54e",
   "metadata": {},
   "outputs": [
    {
     "name": "stdout",
     "output_type": "stream",
     "text": [
      "85.66666666666667\n"
     ]
    }
   ],
   "source": [
    "mathsMarks=74\n",
    "englishMarks=88\n",
    "islamiatMarks=95\n",
    "totalMarks=300\n",
    "sum=englishMarks+islamiatMarks+mathsMarks\n",
    "percentage=(sum/totalMarks)*100\n",
    "print(percentage)"
   ]
  },
  {
   "cell_type": "markdown",
   "id": "84ab32ed-c341-47e4-abe6-071fccb4312a",
   "metadata": {},
   "source": [
    "# Part -2 Python Basics (Conditional Statements)"
   ]
  },
  {
   "cell_type": "markdown",
   "id": "ef96d0f2-1337-4f82-b9be-9614a5f6d934",
   "metadata": {},
   "source": [
    "1. A company decided to give bonus of 5% to employee if his/her year of service is more than 5 years. Ask user for their salary and year of service and print the net bonus amount."
   ]
  },
  {
   "cell_type": "code",
   "execution_count": 8,
   "id": "e709294b-bd97-4f6d-9445-afb5efb2f2dd",
   "metadata": {},
   "outputs": [
    {
     "name": "stdin",
     "output_type": "stream",
     "text": [
      "Enter Your Salary: 30000\n",
      "Enter Your Year Of Service: 8\n"
     ]
    },
    {
     "name": "stdout",
     "output_type": "stream",
     "text": [
      "Congrats 5% Bonus will be Added to Your Salary\n",
      "The New Amount is:$31500.0\n"
     ]
    }
   ],
   "source": [
    "usersalary=int(input(\"Enter Your Salary:\"))\n",
    "userYear=int(input(\"Enter Your Year Of Service:\"))\n",
    "bonususersalary=usersalary*0.05\n",
    "newsalary=usersalary+bonususersalary\n",
    "if userYear>5:\n",
    "    print(\"Congrats 5% Bonus will be Added to Your Salary\")\n",
    "    print(f\"The New Amount is:${newsalary}\")\n",
    "else:\n",
    "    print(\"Sorry Your Year of Service is Not Greater Than 5 year So you are not eligible\")"
   ]
  },
  {
   "cell_type": "markdown",
   "id": "2d8d6e51-6c83-40c0-846d-ab89388db366",
   "metadata": {},
   "source": [
    "2. Write a program to check whether a person is eligible for voting or not. (accept age from user) if age is greater than 17 eligible otherwise not eligible"
   ]
  },
  {
   "cell_type": "code",
   "execution_count": 10,
   "id": "af8d70af-938b-4242-b771-918f3ef5e2a7",
   "metadata": {},
   "outputs": [
    {
     "name": "stdin",
     "output_type": "stream",
     "text": [
      "Enter Your Age 11\n"
     ]
    },
    {
     "name": "stdout",
     "output_type": "stream",
     "text": [
      "You are not Eligible For Voting\n"
     ]
    }
   ],
   "source": [
    "userage=int(input(\"Enter Your Age\"))\n",
    "if userage>17:\n",
    "    print(\"You are Eligible For Voting\")\n",
    "else:\n",
    "    print(\"You are not Eligible For Voting\")"
   ]
  },
  {
   "cell_type": "markdown",
   "id": "c757373a-65c6-4ae4-aa46-c232d420a9d2",
   "metadata": {},
   "source": [
    "3. Write a program to check whether a number entered by user is even or odd."
   ]
  },
  {
   "cell_type": "code",
   "execution_count": 15,
   "id": "1bdd3c68-25f9-4584-9aa1-2ddd3de8ad5d",
   "metadata": {},
   "outputs": [
    {
     "name": "stdin",
     "output_type": "stream",
     "text": [
      "Enter Your Number 33\n"
     ]
    },
    {
     "name": "stdout",
     "output_type": "stream",
     "text": [
      "Number 33 is ODD\n"
     ]
    }
   ],
   "source": [
    "usernumber=int(input('Enter Your Number'))\n",
    "if usernumber%2==0:\n",
    "    print(f'Number {usernumber} is Even')\n",
    "else:\n",
    "    print(f\"Number {usernumber} is ODD\")"
   ]
  },
  {
   "cell_type": "markdown",
   "id": "8ac87119-173b-4a63-8f9a-1dee8a1ad25f",
   "metadata": {},
   "source": [
    "4. Write a program to check whether a number is divisible by 7 or not. Show Answer"
   ]
  },
  {
   "cell_type": "code",
   "execution_count": 16,
   "id": "443dfb04-aa45-4f47-bc22-59b4ea65a8cb",
   "metadata": {},
   "outputs": [
    {
     "name": "stdin",
     "output_type": "stream",
     "text": [
      "Enter Your Number 21\n"
     ]
    },
    {
     "name": "stdout",
     "output_type": "stream",
     "text": [
      "Number 21 is Divisible by 7\n"
     ]
    }
   ],
   "source": [
    "usernumber=int(input('Enter Your Number'))\n",
    "if usernumber%7==0:\n",
    "    print(f'Number {usernumber} is Divisible by 7')\n",
    "else:\n",
    "    print(f\"Number {usernumber} is Not Divisible By 7\")"
   ]
  },
  {
   "cell_type": "markdown",
   "id": "3ffd6939-b018-4738-adaa-c00cf81ca0ab",
   "metadata": {},
   "source": [
    "5. Write a program to display \"Hello\" if a number entered by user is a multiple of five , otherwise print \"Bye\"."
   ]
  },
  {
   "cell_type": "code",
   "execution_count": 19,
   "id": "53b8e463-1cf2-46bb-90e6-c5d8cabf4323",
   "metadata": {},
   "outputs": [
    {
     "name": "stdin",
     "output_type": "stream",
     "text": [
      "Enter Your Number 80\n"
     ]
    },
    {
     "name": "stdout",
     "output_type": "stream",
     "text": [
      "Hello\n"
     ]
    }
   ],
   "source": [
    "usernumber=int(input('Enter Your Number'))\n",
    "if usernumber%5==0:\n",
    "    print(f'Hello')\n",
    "else:\n",
    "    print(f\"Bye\")"
   ]
  },
  {
   "cell_type": "markdown",
   "id": "70738df5-3308-43b9-95b3-f4774fe0519c",
   "metadata": {},
   "source": [
    "7. Write a program to display the last digit of a number."
   ]
  },
  {
   "cell_type": "code",
   "execution_count": 20,
   "id": "84d6e221-458d-44e6-8803-53fc5e288d88",
   "metadata": {},
   "outputs": [
    {
     "name": "stdin",
     "output_type": "stream",
     "text": [
      "Enter Your Number 80\n"
     ]
    },
    {
     "name": "stdout",
     "output_type": "stream",
     "text": [
      "The Last digit of Your Number is 0\n"
     ]
    }
   ],
   "source": [
    "usernumber=int(input('Enter Your Number'))\n",
    "lastdigit=usernumber%10\n",
    "print(f'The Last digit of Your Number is {lastdigit}')"
   ]
  },
  {
   "cell_type": "markdown",
   "id": "7559f13a-cd66-442b-b57f-9e4aa7294215",
   "metadata": {},
   "source": [
    "9. Take values of length and breadth of a rectangle from user and print if it is square or rectangle."
   ]
  },
  {
   "cell_type": "code",
   "execution_count": 21,
   "id": "42d8a133-7bd8-4264-943d-f2c3ab7bddbd",
   "metadata": {},
   "outputs": [
    {
     "name": "stdin",
     "output_type": "stream",
     "text": [
      "Enter the Value of Lenght 10\n",
      "Enter the Value of Breath 10\n"
     ]
    },
    {
     "name": "stdout",
     "output_type": "stream",
     "text": [
      "This is A Square\n"
     ]
    }
   ],
   "source": [
    "userlenght=int(input(\"Enter the Value of Lenght\"))\n",
    "userbreath=int(input(\"Enter the Value of Breath\"))\n",
    "if userbreath==userlenght:\n",
    "    print(\"This is A Square\")\n",
    "else:\n",
    "    print(\"This is A Rectangle\")"
   ]
  },
  {
   "cell_type": "markdown",
   "id": "f01462b0-ccdc-47dc-845a-53765cf0faea",
   "metadata": {},
   "source": [
    "10. Take two int values from user and print greatest among them."
   ]
  },
  {
   "cell_type": "code",
   "execution_count": 22,
   "id": "fc077b60-bea5-468b-aa72-aeca7968f5f5",
   "metadata": {},
   "outputs": [
    {
     "name": "stdin",
     "output_type": "stream",
     "text": [
      "Enter the First Value 50\n",
      "Enter the Second Value 20\n"
     ]
    },
    {
     "name": "stdout",
     "output_type": "stream",
     "text": [
      "This value which is 50 is greater than 20\n"
     ]
    }
   ],
   "source": [
    "uservalue1=int(input(\"Enter the First Value\"))\n",
    "uservalue2=int(input(\"Enter the Second Value\"))\n",
    "if uservalue1>uservalue2:\n",
    "    print(f\"This value which is {uservalue1} is greater than {uservalue2}\")\n",
    "else:\n",
    "    print(f\"This value which is {uservalue2} is greater than {uservalue1} \")"
   ]
  },
  {
   "cell_type": "markdown",
   "id": "3db469b1-0af7-4f7d-b7bd-ef22fb99d3a1",
   "metadata": {},
   "source": [
    "11. A shop will give discount of 10% if the cost of purchased quantity is more than 1000. Ask user for quantity Suppose, one unit will cost 100. Judge and print total cost for user."
   ]
  },
  {
   "cell_type": "code",
   "execution_count": 24,
   "id": "84a27fe0-90fb-4e96-bc77-4f7d5795e3f0",
   "metadata": {},
   "outputs": [
    {
     "name": "stdin",
     "output_type": "stream",
     "text": [
      "Enter Your Quantity: 9000\n"
     ]
    },
    {
     "name": "stdout",
     "output_type": "stream",
     "text": [
      "Your amount is $900000\n",
      "Since you purchsed more than 1000 in Quantity Congrats 10% Discount will be Added\n",
      "The New Amount is:$810000.0\n"
     ]
    }
   ],
   "source": [
    "userQuantity=int(input(\"Enter Your Quantity:\"))\n",
    "price1=100\n",
    "newprice=userQuantity*price1\n",
    "print(f\"Your amount is ${newprice}\")\n",
    "discount=newprice*0.10\n",
    "discountedprice=newprice-discount\n",
    "if userQuantity>1000:\n",
    "    print(\"Since you purchsed more than 1000 in Quantity Congrats 10% Discount will be Added\")\n",
    "    print(f\"The New Amount is:${discountedprice}\")\n",
    "else:\n",
    "    print(\"Sorry Your Purchased Quantity is Not Greater Than 1000 So You will Not Get a Disount\")"
   ]
  },
  {
   "cell_type": "markdown",
   "id": "764956a6-f020-49e0-9895-81d4c79fb532",
   "metadata": {},
   "source": [
    "12. A school has following rules for grading system:\n",
    "a. Below 25 - F\n",
    "\n",
    "b. 25 to 45 - E\n",
    "\n",
    "c. 45 to 50 - D\n",
    "\n",
    "d. 50 to 60 - C\n",
    "\n",
    "e. 60 to 80 - B\n",
    "\n",
    "f. Above 80 - A\n",
    "\n",
    "Ask user to enter marks and print the corresponding grade."
   ]
  },
  {
   "cell_type": "code",
   "execution_count": 25,
   "id": "f1e0d21f-c740-4b00-923c-8987b42b8f80",
   "metadata": {},
   "outputs": [
    {
     "name": "stdin",
     "output_type": "stream",
     "text": [
      "Enter Your Grade 74\n"
     ]
    },
    {
     "name": "stdout",
     "output_type": "stream",
     "text": [
      "Your Grade is B ,Good Work\n"
     ]
    }
   ],
   "source": [
    "usergrade=(int(input(\"Enter Your Grade\")))\n",
    "if usergrade<=25:\n",
    "    print(\"Your Grade is F ,You Need To Work Hard\")\n",
    "elif usergrade<=45:\n",
    "    print(\"Your Grade is E ,You Need To Work Hard\")\n",
    "elif usergrade<=50:\n",
    "    print(\"Your Grade is D ,You Need To Work Hard\")\n",
    "elif usergrade<=60:\n",
    "    print(\"Your Grade is C ,Need Improvement\")\n",
    "elif usergrade<=80:\n",
    "    print(\"Your Grade is B ,Good Work\")\n",
    "elif usergrade>80:\n",
    "    print(\"Your Grade is A ,Execellent\")"
   ]
  },
  {
   "cell_type": "markdown",
   "id": "9fb010bc-befa-45e4-a5f4-496e8985f037",
   "metadata": {},
   "source": [
    "14. A student will not be allowed to sit in exam if his/her attendence is less than 75%.\n",
    "\n",
    "Take following input from user\n",
    "\n",
    " - Number of classes held\n",
    "\n",
    " - Number of classes attended.\n",
    "\n",
    "And print\n",
    "\n",
    " - percentage of class attended\n",
    "\n",
    " - Is student is allowed to sit in exam or not."
   ]
  },
  {
   "cell_type": "code",
   "execution_count": 26,
   "id": "3809dfd8-5461-4478-9867-b93c751b764e",
   "metadata": {},
   "outputs": [
    {
     "name": "stdin",
     "output_type": "stream",
     "text": [
      "Enter the Number of Clases Held 26\n",
      "Enter the number of Clases You have Attended 22\n"
     ]
    },
    {
     "name": "stdout",
     "output_type": "stream",
     "text": [
      "You are Eligible For taking This Exam\n"
     ]
    }
   ],
   "source": [
    "number_of_clases_held=int(input('Enter the Number of Clases Held'))\n",
    "number_of_clases_attended=(int(input('Enter the number of Clases You have Attended')))\n",
    "attended=(number_of_clases_attended/number_of_clases_held)*100\n",
    "if attended<75:\n",
    "    print('You are not Eligible For taking This Exam')\n",
    "else:\n",
    "    print('You are Eligible For taking This Exam')"
   ]
  },
  {
   "cell_type": "markdown",
   "id": "e4298c56-91f6-4809-b949-2f7c8290f0f5",
   "metadata": {},
   "source": [
    "15. Modify the above question to allow student to sit if he/she has medical cause. Ask user if he/she has medical cause or not ( 'Y' or 'N' ) and print accordingly. "
   ]
  },
  {
   "cell_type": "code",
   "execution_count": 27,
   "id": "283a7431-e316-4c68-bb55-bf74e1678c0b",
   "metadata": {},
   "outputs": [
    {
     "name": "stdin",
     "output_type": "stream",
     "text": [
      "Enter the Number of Clases Held 30\n",
      "Enter the number of Clases You have Attended 26\n",
      "Did you Had Any Medical Emergency, Enter Y/N y\n"
     ]
    },
    {
     "name": "stdout",
     "output_type": "stream",
     "text": [
      "Since You Had An Medical Emergency You can Take This Test\n"
     ]
    }
   ],
   "source": [
    "number_of_clases_held=int(input('Enter the Number of Clases Held'))\n",
    "number_of_clases_attended=(int(input('Enter the number of Clases You have Attended')))\n",
    "attended=(number_of_clases_attended/number_of_clases_held)*100\n",
    "medical_emergency=(input('Did you Had Any Medical Emergency, Enter Y/N')).strip().lower()\n",
    "if medical_emergency=='y':\n",
    "    print('Since You Had An Medical Emergency You can Take This Test')\n",
    "elif attended<75:\n",
    "    print('You are not Eligible For taking This Exam')\n",
    "else:\n",
    "    print('You are Eligible For taking This Exam')"
   ]
  },
  {
   "cell_type": "markdown",
   "id": "d32ed917-09c4-4076-9f29-675cff8df9b3",
   "metadata": {},
   "source": [
    "16. Write a program to check if a year is leap year or not.\n",
    "If a year is divisible by 4 then it is leap year but if the year is century year like 2000, 1900, 2100 then it must be divisible by 400."
   ]
  },
  {
   "cell_type": "code",
   "execution_count": 2,
   "id": "5494735a-09be-40ab-b9d9-42948f9bc292",
   "metadata": {},
   "outputs": [
    {
     "name": "stdin",
     "output_type": "stream",
     "text": [
      "Enter Your YEAR 2005\n"
     ]
    },
    {
     "name": "stdout",
     "output_type": "stream",
     "text": [
      "This is Not A leap Year\n"
     ]
    }
   ],
   "source": [
    "userLeapYear=int(input('Enter Your YEAR'))\n",
    "if userLeapYear%4==0 and userLeapYear%400==0:\n",
    "    print(f'The Year is a leap Year {userLeapYear}')\n",
    "else:\n",
    "    print(\"This is Not A leap Year\")"
   ]
  },
  {
   "cell_type": "markdown",
   "id": "adf6ac3c-7a5f-4d9d-a179-6da2507d4513",
   "metadata": {},
   "source": [
    "17. Ask user to enter age, gender ( M or F ), marital status ( Y or N ) and then using following rules print their place of service.\n",
    "    \n",
    "if employee is female, then she will work only in urban areas.\r\n",
    "\r\n",
    "if employee is a male and age is in between 20 to 40 then he may work in anywhere\r\n",
    "\r\n",
    "if employee is male and age is in between 40 t0 60 then he will work in urban areas only.\r\n",
    "\r\n",
    "And any other input of age should print \"ERROR\""
   ]
  },
  {
   "cell_type": "code",
   "execution_count": 30,
   "id": "b7a411eb-7c2d-4edb-b661-91d401158cde",
   "metadata": {},
   "outputs": [
    {
     "name": "stdin",
     "output_type": "stream",
     "text": [
      "Enter Your Age 19\n",
      "Enter Your Gender M/F m\n",
      "Enter Your marital status Y/N n\n"
     ]
    },
    {
     "name": "stdout",
     "output_type": "stream",
     "text": [
      "Error\n"
     ]
    }
   ],
   "source": [
    "age=int(input(\"Enter Your Age\"))\n",
    "gender=input(\"Enter Your Gender M/F\").strip().lower()\n",
    "marital_status=input(\"Enter Your marital status Y/N\").strip().lower()\n",
    "if gender==\"f\":\n",
    "    print('You can only work in Urban Areas')\n",
    "elif gender=='m' and 20<=age<40:\n",
    "    print('You are eligible to work anywhere')\n",
    "elif gender=='m' and 40<=age<60:\n",
    "    print ('You are eligible for work only in Urban Areas')\n",
    "else:\n",
    "    print(\"Error\")\n"
   ]
  },
  {
   "cell_type": "markdown",
   "id": "3d9ede7a-1e7f-4933-a1cf-f756102a8751",
   "metadata": {},
   "source": [
    "6. Write a program to calculate the electricity bill (accept number of unit from user) according to the following criteria : Unit Price\n",
    "uptp 100 units no charge Next 200 units Rs 5 per unit After 200 units Rs 10 per unit (For example if input unit is 350 than total bill amount is Rs.3500 (For example if input unit is 97 than total bill amount is Rs.0 (For example if input unit is 150 than total bill amount is Rs.750"
   ]
  },
  {
   "cell_type": "code",
   "execution_count": 31,
   "id": "fe87ae36-6cbf-4f18-b79b-60fac8dee0d8",
   "metadata": {},
   "outputs": [
    {
     "name": "stdin",
     "output_type": "stream",
     "text": [
      "Enter Your Units 400\n"
     ]
    },
    {
     "name": "stdout",
     "output_type": "stream",
     "text": [
      "This Month You are charged With 4000$\n"
     ]
    }
   ],
   "source": [
    "number_of_unit=int(input(\"Enter Your Units\"))\n",
    "if number_of_unit<100:\n",
    "    print('This Month You are charged With 0$')\n",
    "elif 100<=number_of_unit<200:\n",
    "    number_of_unit_above_100=number_of_unit*5\n",
    "    print(f'This Month You are charged With {number_of_unit_above_100}$')\n",
    "elif number_of_unit>=200:\n",
    "    number_of_unit_above_200=number_of_unit*10\n",
    "    print(f'This Month You are charged With {number_of_unit_above_200}$')\n",
    "else:\n",
    "    print('Enter a Valid Amount')"
   ]
  },
  {
   "cell_type": "markdown",
   "id": "35c7fea4-24a0-4701-86fa-a29947b8d01a",
   "metadata": {},
   "source": [
    "13. Take input of age of 3 people by user and determine oldest and youngest among them."
   ]
  },
  {
   "cell_type": "code",
   "execution_count": 32,
   "id": "69627097-bebf-443c-b8dc-835ab4ba7717",
   "metadata": {},
   "outputs": [
    {
     "name": "stdin",
     "output_type": "stream",
     "text": [
      "Enter The Age of First User 40\n",
      "Enter The Age of Second User 30\n",
      "Enter The Age of Third User 60\n"
     ]
    },
    {
     "name": "stdout",
     "output_type": "stream",
     "text": [
      "60 is the Oldest\n",
      "30 is the Youngest\n"
     ]
    }
   ],
   "source": [
    "first_user_age=int(input('Enter The Age of First User'))\n",
    "second_user_age=int(input('Enter The Age of Second User'))\n",
    "third_user_age=int(input('Enter The Age of Third User'))\n",
    "if first_user_age >100 and second_user_age>100 and third_user_age>100:\n",
    "    print('This is Not A Valid Age')\n",
    "else:\n",
    "    if first_user_age>second_user_age and first_user_age> third_user_age:\n",
    "        print(F\"{first_user_age} is the Oldest\")\n",
    "    elif second_user_age> first_user_age and second_user_age> third_user_age:\n",
    "        print(F\"{second_user_age} is the Oldest\")\n",
    "    elif third_user_age>second_user_age and third_user_age>first_user_age:\n",
    "        print(F\"{third_user_age} is the Oldest\")\n",
    "    if first_user_age<second_user_age and first_user_age<third_user_age:\n",
    "        print(F\"{first_user_age} is the Youngest\")\n",
    "    elif second_user_age< first_user_age and second_user_age< third_user_age:\n",
    "        print(F\"{second_user_age} is the Youngest\")\n",
    "    elif third_user_age<second_user_age and third_user_age< first_user_age:\n",
    "        print(F\"{third_user_age} is the Youngest\")"
   ]
  },
  {
   "cell_type": "code",
   "execution_count": null,
   "id": "5a878bfc-1417-43d6-9e57-02d826701854",
   "metadata": {},
   "outputs": [],
   "source": []
  }
 ],
 "metadata": {
  "kernelspec": {
   "display_name": "Python 3 (ipykernel)",
   "language": "python",
   "name": "python3"
  },
  "language_info": {
   "codemirror_mode": {
    "name": "ipython",
    "version": 3
   },
   "file_extension": ".py",
   "mimetype": "text/x-python",
   "name": "python",
   "nbconvert_exporter": "python",
   "pygments_lexer": "ipython3",
   "version": "3.11.7"
  }
 },
 "nbformat": 4,
 "nbformat_minor": 5
}
